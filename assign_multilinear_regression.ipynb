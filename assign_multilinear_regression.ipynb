{
  "nbformat": 4,
  "nbformat_minor": 0,
  "metadata": {
    "colab": {
      "provenance": [],
      "authorship_tag": "ABX9TyON6pxh9LmvbJYfIFIjTvW5",
      "include_colab_link": true
    },
    "kernelspec": {
      "name": "python3",
      "display_name": "Python 3"
    },
    "language_info": {
      "name": "python"
    }
  },
  "cells": [
    {
      "cell_type": "markdown",
      "metadata": {
        "id": "view-in-github",
        "colab_type": "text"
      },
      "source": [
        "<a href=\"https://colab.research.google.com/github/anjaligeorance/dataminningassi/blob/main/assign_multilinear_regression.ipynb\" target=\"_parent\"><img src=\"https://colab.research.google.com/assets/colab-badge.svg\" alt=\"Open In Colab\"/></a>"
      ]
    },
    {
      "cell_type": "code",
      "execution_count": 1,
      "metadata": {
        "id": "hfCJBwTGRSGk"
      },
      "outputs": [],
      "source": [
        "import numpy as np\n",
        "import pandas as pd\n",
        "from sklearn.linear_model import LinearRegression\n"
      ]
    },
    {
      "cell_type": "code",
      "source": [
        "from google.colab import drive\n",
        "drive.mount('/content/drive')\n",
        "\n",
        "# Define dataset paths\n",
        "filename = \"/content/drive/MyDrive/data_multi.csv\""
      ],
      "metadata": {
        "colab": {
          "base_uri": "https://localhost:8080/"
        },
        "id": "i-yKF4khXGVF",
        "outputId": "81fa83cc-1300-4d28-dd19-13cc3a59cef8"
      },
      "execution_count": 2,
      "outputs": [
        {
          "output_type": "stream",
          "name": "stdout",
          "text": [
            "Mounted at /content/drive\n"
          ]
        }
      ]
    },
    {
      "cell_type": "code",
      "source": [
        "def read_csv(filename):\n",
        "    \"\"\"\n",
        "    Reads features (square footage, bedrooms) and target (house prices) from a CSV file.\n",
        "    \"\"\"\n",
        "    df = pd.read_csv(filename)\n",
        "    X = df[[\"square_footage\", \"bedrooms\"]].values\n",
        "    y = df[\"price\"].values\n",
        "    return X, y"
      ],
      "metadata": {
        "id": "lPpoZa69f6Ar"
      },
      "execution_count": 5,
      "outputs": []
    },
    {
      "cell_type": "code",
      "source": [
        "def main():\n",
        "    # Read data from CSV file\n",
        "    X, y = read_csv(filename)\n",
        "\n",
        "    # Create and train Linear Regression model\n",
        "    model = LinearRegression()\n",
        "    model.fit(X, y)\n",
        "\n",
        "    # Get the coefficients and intercept\n",
        "    coefficients = model.coef_\n",
        "    intercept = model.intercept_\n",
        "\n",
        "    print(\"Coefficients:\", coefficients)\n",
        "    print(\"Intercept:\", intercept)\n",
        "\n",
        "    # Make predictions\n",
        "    new_data = np.array([[1600, 3], [2200, 4]])  # Example new data\n",
        "    predictions = model.predict(new_data)\n",
        "\n",
        "    print(\"Predictions:\", predictions)\n",
        "\n",
        "    # Example of accessing single values\n",
        "    print(f\"Coefficient for square footage: {coefficients[0]}\")\n",
        "    print(f\"Coefficient for number of bedrooms: {coefficients[1]}\")\n",
        "\n",
        "if __name__ == \"__main__\":\n",
        "    main()"
      ],
      "metadata": {
        "colab": {
          "base_uri": "https://localhost:8080/"
        },
        "id": "jEOhPMXOf-l5",
        "outputId": "78fabbff-a903-4cd0-e5a0-363362ded01b"
      },
      "execution_count": 6,
      "outputs": [
        {
          "output_type": "stream",
          "name": "stdout",
          "text": [
            "Coefficients: [ 156.48414986 7809.79827089]\n",
            "Intercept: 87406.34005763676\n",
            "Predictions: [361210.37463977 462910.66282421]\n",
            "Coefficient for square footage: 156.48414985590787\n",
            "Coefficient for number of bedrooms: 7809.798270893372\n"
          ]
        }
      ]
    }
  ]
}