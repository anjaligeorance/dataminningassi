{
  "nbformat": 4,
  "nbformat_minor": 0,
  "metadata": {
    "colab": {
      "provenance": [],
      "authorship_tag": "ABX9TyNa/CRrS2tJh/YOnkLm4tlt",
      "include_colab_link": true
    },
    "kernelspec": {
      "name": "python3",
      "display_name": "Python 3"
    },
    "language_info": {
      "name": "python"
    }
  },
  "cells": [
    {
      "cell_type": "markdown",
      "metadata": {
        "id": "view-in-github",
        "colab_type": "text"
      },
      "source": [
        "<a href=\"https://colab.research.google.com/github/anjaligeorance/dataminningassi/blob/main/assign_multilinear_regression.ipynb\" target=\"_parent\"><img src=\"https://colab.research.google.com/assets/colab-badge.svg\" alt=\"Open In Colab\"/></a>"
      ]
    },
    {
      "cell_type": "code",
      "execution_count": 1,
      "metadata": {
        "id": "hfCJBwTGRSGk"
      },
      "outputs": [],
      "source": [
        "import numpy as np\n",
        "import pandas as pd\n",
        "from sklearn.linear_model import LinearRegression\n"
      ]
    },
    {
      "cell_type": "code",
      "source": [
        "from google.colab import drive\n",
        "drive.mount('/content/drive')\n",
        "\n",
        "# Define dataset paths\n",
        "filename = \"/content/drive/MyDrive/data_multi.csv\""
      ],
      "metadata": {
        "colab": {
          "base_uri": "https://localhost:8080/"
        },
        "id": "i-yKF4khXGVF",
        "outputId": "def79eab-a01e-4d2a-d891-aba986725e97"
      },
      "execution_count": 2,
      "outputs": [
        {
          "output_type": "stream",
          "name": "stdout",
          "text": [
            "Mounted at /content/drive\n"
          ]
        }
      ]
    },
    {
      "cell_type": "code",
      "source": [
        "def read_csv(filename):\n",
        "    \"\"\"\n",
        "    Reads features (square footage, bedrooms) and target (house prices) from a CSV file.\n",
        "    \"\"\"\n",
        "    df = pd.read_csv(filename)\n",
        "    X = df[[\"square_footage\", \"bedrooms\"]].values\n",
        "    y = df[\"price\"].values\n",
        "    return X, y"
      ],
      "metadata": {
        "id": "lPpoZa69f6Ar"
      },
      "execution_count": 3,
      "outputs": []
    },
    {
      "cell_type": "code",
      "source": [
        "def main():\n",
        "    # Read data from CSV file\n",
        "    X, y = read_csv(filename)\n",
        "\n",
        "    # Create and train Linear Regression model\n",
        "    model = LinearRegression()\n",
        "    model.fit(X, y)\n",
        "\n",
        "    # Get the coefficients and intercept\n",
        "    coefficients = model.coef_\n",
        "    intercept = model.intercept_\n",
        "\n",
        "    print(\"Coefficients:\", coefficients)\n",
        "    print(\"Intercept:\", intercept)\n",
        "\n",
        "    # Make predictions\n",
        "    new_data = np.array([[1800, 4], [2300, 5]])  # Example new data\n",
        "    predictions = model.predict(new_data)\n",
        "\n",
        "    print(\"Predictions:\", predictions)\n",
        "\n",
        "    # Example of accessing single values\n",
        "    print(f\"Coefficient for square footage: {coefficients[0]}\")\n",
        "    print(f\"Coefficient for number of bedrooms: {coefficients[1]}\")\n",
        "\n",
        "if __name__ == \"__main__\":\n",
        "    main()"
      ],
      "metadata": {
        "colab": {
          "base_uri": "https://localhost:8080/"
        },
        "id": "jEOhPMXOf-l5",
        "outputId": "93807bfe-7c18-4397-b66b-c9be84b05390"
      },
      "execution_count": 5,
      "outputs": [
        {
          "output_type": "stream",
          "name": "stdout",
          "text": [
            "Coefficients: [    54.91990847 -13272.31121281]\n",
            "Intercept: 308924.4851258581\n",
            "Predictions: [354691.07551487 368878.71853547]\n",
            "Coefficient for square footage: 54.91990846681923\n",
            "Coefficient for number of bedrooms: -13272.311212814635\n"
          ]
        }
      ]
    }
  ]
}